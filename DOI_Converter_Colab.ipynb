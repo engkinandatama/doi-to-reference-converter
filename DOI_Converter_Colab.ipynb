{
  "nbformat": 4,
  "nbformat_minor": 0,
  "metadata": {
    "colab": {
      "provenance": []
    },
    "kernelspec": {
      "name": "python3",
      "display_name": "Python 3"
    },
    "language_info": {
      "name": "python"
    }
  },
  "cells": [
    {
      "cell_type": "markdown",
      "source": [
        "# 🚀 DOI to Reference Converter\n",
        "\n",
        "Welcome to the web-based version of the DOI to Reference Converter! This tool allows you to easily convert a list of DOIs into a reference file (`.ris` or `.bib`) without any local installation.\n",
        "\n",
        "## How to Use\n",
        "1.  **Run the Setup Cell**: Execute the first code cell below (`Setup & Imports`). This will download the necessary code from the GitHub repository and prepare the environment. You only need to do this once per session.\n",
        "2.  **Run the UI Cell**: Execute the second code cell (`User Interface`). This will display the interactive tool.\n",
        "3.  **Generate Your File**: Use the tool to upload a `.txt` file or paste your DOIs, choose your format, and click the \"Generate References\" button. Your files will be downloaded automatically.\n"
      ],
      "metadata": {
        "id": "o4cfdN9hDsi_"
      }
    },
    {
      "cell_type": "markdown",
      "source": [
        "# Cell 1 : Setup & Imports"
      ],
      "metadata": {
        "id": "bX7osW5KD4Yt"
      }
    },
    {
      "cell_type": "code",
      "execution_count": null,
      "metadata": {
        "id": "6JYWwZMDC_GP"
      },
      "outputs": [],
      "source": [
        "# =================================================\n",
        "# CELL 1: SETUP & IMPORTS\n",
        "# =================================================\n",
        "# Just run this cell once per session.\n",
        "\n",
        "# 1. Clone the repository from GitHub\n",
        "# IMPORTANT: REPLACE THE URL WITH YOUR OWN GITHUB REPO URL!\n",
        "!git clone https://github.com/engkinandatama/doi-to-reference-converter.git\n",
        "\n",
        "# 2. Change into the project directory\n",
        "%cd doi-to-reference-converter\n",
        "\n",
        "# 3. Install dependencies\n",
        "!pip install -r requirements.txt\n",
        "\n",
        "# 4. Import the core functions from the cloned converter.py file\n",
        "from converter import clean_doi, get_metadata_from_doi\n",
        "print(\"\\n✅ Setup complete! You can now run the User Interface cell below.\" )\n",
        "\n",
        "# Import other libraries needed for the UI\n",
        "import requests\n",
        "import re\n",
        "from google.colab import files\n",
        "import ipywidgets as widgets\n",
        "from IPython.display import display, clear_output\n",
        "import time\n",
        "from urllib.parse import quote\n",
        "import io\n"
      ]
    },
    {
      "cell_type": "markdown",
      "source": [
        "# Cell 2: DOI_Converter_Functional"
      ],
      "metadata": {
        "id": "p9A52-E3D_Kc"
      }
    },
    {
      "cell_type": "code",
      "source": [
        "# =================================================\n",
        "# CELL 2: DOI_Converter_Functional\n",
        "# =================================================\n",
        "# Run this cell after the setup is complete to display the tool.\n",
        "\n",
        "# --- Widget Definitions (Basic UI) ---\n",
        "upload_button = widgets.FileUpload(\n",
        "    accept='.txt', multiple=False, description='1. Upload .txt File', button_style='primary'\n",
        ")\n",
        "doi_input_area = widgets.Textarea(\n",
        "    value='', placeholder='Or, paste your DOIs here, one per line...',\n",
        "    description='2. Paste Manually:', layout={'height': '150px', 'width': '70%'},\n",
        "    style={'description_width': 'initial'}\n",
        ")\n",
        "format_dropdown = widgets.Dropdown(\n",
        "    options=[('RIS (for Mendeley/Zotero)', 'RIS'), ('BibTeX (for LaTeX)', 'BibTeX')],\n",
        "    value='RIS', description='3. Select Format:', style={'description_width': 'initial'}\n",
        ")\n",
        "run_button = widgets.Button(\n",
        "    description=\"🚀 Generate Files\", button_style='success', tooltip='Start the conversion process'\n",
        ")\n",
        "output_area = widgets.Output()\n",
        "\n",
        "# --- The function that runs when the button is clicked ---\n",
        "def on_run_button_clicked(b):\n",
        "    output_area.clear_output()\n",
        "    with output_area: print(\"🚀 Starting process...\\n\")\n",
        "    raw_dois = []\n",
        "    if upload_button.value:\n",
        "        uploaded_filename = list(upload_button.value.keys())[0]\n",
        "        uploaded_file_content = upload_button.value[uploaded_filename]['content']\n",
        "        raw_dois = io.TextIOWrapper(io.BytesIO(uploaded_file_content), encoding='utf-8').read().splitlines()\n",
        "        with output_area: print(f\"📂 Reading DOIs from file: {uploaded_filename}\")\n",
        "    elif doi_input_area.value:\n",
        "        raw_dois = doi_input_area.value.split('\\n')\n",
        "        with output_area: print(\"📋 Reading DOIs from the text box.\")\n",
        "    if not raw_dois:\n",
        "        with output_area: print(\"❗ Input is empty. Please upload a file or paste DOIs.\")\n",
        "        return\n",
        "    cleaned_dois = sorted(list(set([clean_doi(d) for d in raw_dois if clean_doi(d)])))\n",
        "    if not cleaned_dois:\n",
        "        with output_area: print(\"❗ No valid DOIs found in your input.\")\n",
        "        return\n",
        "    with output_area:\n",
        "        print(f\"🔍 Found {len(cleaned_dois)} unique DOIs to process.\")\n",
        "        print(\"-\" * 40)\n",
        "    successful_entries, failed_dois = [], []\n",
        "    output_format = format_dropdown.value\n",
        "    for doi in cleaned_dois:\n",
        "        metadata = get_metadata_from_doi(doi, output_format) # Calling the imported function\n",
        "        if metadata: successful_entries.append(metadata)\n",
        "        else: failed_dois.append(doi)\n",
        "        with output_area: print(\"-\" * 40)\n",
        "\n",
        "    # --- NEW & IMPROVED ENGLISH SUMMARY LOG ---\n",
        "    with output_area:\n",
        "        print(\"\\n========================================\")\n",
        "        print(\"            PROCESS COMPLETE\")\n",
        "        print(\"========================================\")\n",
        "        print(f\"Total DOIs Processed: {len(cleaned_dois)}\")\n",
        "        print(f\"✅ Succeeded         : {len(successful_entries)}\")\n",
        "        print(f\"❌ Failed            : {len(failed_dois)}\")\n",
        "\n",
        "        # If any DOIs failed, list them\n",
        "        if failed_dois:\n",
        "            print(\"\\n----------------------------------------\")\n",
        "            print(\"List of DOIs that could not be found:\")\n",
        "            for i, doi in enumerate(failed_dois):\n",
        "                print(f\"  {i+1}. {doi}\")\n",
        "            print(\"----------------------------------------\")\n",
        "            print(\"\\nA 'failed_dois.txt' file has also been created for your review.\")\n",
        "        else:\n",
        "            print(\"\\n✨ All DOIs were processed successfully! ✨\")\n",
        "        print(\"========================================\")\n",
        "\n",
        "\n",
        "    # --- File Download Section ---\n",
        "    if successful_entries:\n",
        "        file_extension = 'ris' if output_format == 'RIS' else 'bib'\n",
        "        success_filename = f\"successful_references.{file_extension}\"\n",
        "        with open(success_filename, \"w\", encoding=\"utf-8\") as f: f.write(\"\\n\\n\".join(successful_entries))\n",
        "        files.download(success_filename)\n",
        "        with output_area: print(f\"\\n✅ Downloading '{success_filename}'...\")\n",
        "    if failed_dois:\n",
        "        fail_filename = \"failed_dois.txt\"\n",
        "        with open(fail_filename, \"w\", encoding=\"utf-8\") as f: f.write(\"\\n\".join(failed_dois))\n",
        "        files.download(fail_filename)\n",
        "        with output_area: print(f\"🟡 Downloading '{fail_filename}' for your review.\")\n",
        "\n",
        "    # Reset the upload button\n",
        "    if upload_button.value:\n",
        "        upload_button.value.clear()\n",
        "        upload_button._counter = 0\n",
        "\n",
        "# --- Display all the widgets ---\n",
        "run_button.on_click(on_run_button_clicked)\n",
        "display(upload_button, doi_input_area, format_dropdown, run_button, output_area)\n",
        "\n"
      ],
      "metadata": {
        "id": "dy0qJ9Y4EGAc"
      },
      "execution_count": null,
      "outputs": []
    }
  ]
}